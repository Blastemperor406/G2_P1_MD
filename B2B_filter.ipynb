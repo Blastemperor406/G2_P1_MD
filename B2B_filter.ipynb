{
 "cells": [
  {
   "cell_type": "code",
   "execution_count": 27,
   "metadata": {},
   "outputs": [
    {
     "data": {
      "text/plain": [
       "True"
      ]
     },
     "execution_count": 27,
     "metadata": {},
     "output_type": "execute_result"
    }
   ],
   "source": [
    "from llama_index.readers.string_iterable import StringIterableReader\n",
    "from dotenv import load_dotenv\n",
    "import pandas\n",
    "from llama_index.core import TreeIndex\n",
    "load_dotenv()\n"
   ]
  },
  {
   "cell_type": "code",
   "execution_count": 14,
   "metadata": {},
   "outputs": [],
   "source": [
    "data=[{'Name': 'adCAPTCHA', 'Description': 'Revolutionary solution blocking bot attacks via media, ensuring genuine engagement. Offers unique challenges, easy media sync, charges only for real interactions, and guarantees privacy without cookies or tracking. A new era of secure, authentic engagement.'},\n",
    "      {'Name': 'Blinky Bat', 'Description': 'Blinky Bat elevates gameplay by transforming your blinks into controls. Inspired by Flappy Bird, it challenges you to navigate a bat through obstacles using timed blinks. Experience this innovative, blink-controlled journey through a maze of challenges.'},\n",
    "      {'Name': 'Complete Website package for SMEs ', 'Description': 'Complete Business Website with lot of top features at most affordable price. Complete website design FREE domain name, hosting included AI chatbot company intro video Revisions Priority support'}]"
   ]
  },
  {
   "cell_type": "code",
   "execution_count": 15,
   "metadata": {},
   "outputs": [],
   "source": [
    "df=pandas.DataFrame(data)"
   ]
  },
  {
   "cell_type": "code",
   "execution_count": 16,
   "metadata": {},
   "outputs": [
    {
     "data": {
      "text/html": [
       "<div>\n",
       "<style scoped>\n",
       "    .dataframe tbody tr th:only-of-type {\n",
       "        vertical-align: middle;\n",
       "    }\n",
       "\n",
       "    .dataframe tbody tr th {\n",
       "        vertical-align: top;\n",
       "    }\n",
       "\n",
       "    .dataframe thead th {\n",
       "        text-align: right;\n",
       "    }\n",
       "</style>\n",
       "<table border=\"1\" class=\"dataframe\">\n",
       "  <thead>\n",
       "    <tr style=\"text-align: right;\">\n",
       "      <th></th>\n",
       "      <th>Name</th>\n",
       "      <th>Description</th>\n",
       "    </tr>\n",
       "  </thead>\n",
       "  <tbody>\n",
       "    <tr>\n",
       "      <th>0</th>\n",
       "      <td>adCAPTCHA</td>\n",
       "      <td>Revolutionary solution blocking bot attacks vi...</td>\n",
       "    </tr>\n",
       "    <tr>\n",
       "      <th>1</th>\n",
       "      <td>Blinky Bat</td>\n",
       "      <td>Blinky Bat elevates gameplay by transforming y...</td>\n",
       "    </tr>\n",
       "    <tr>\n",
       "      <th>2</th>\n",
       "      <td>Complete Website package for SMEs</td>\n",
       "      <td>Complete Business Website with lot of top feat...</td>\n",
       "    </tr>\n",
       "  </tbody>\n",
       "</table>\n",
       "</div>"
      ],
      "text/plain": [
       "                                 Name  \\\n",
       "0                           adCAPTCHA   \n",
       "1                          Blinky Bat   \n",
       "2  Complete Website package for SMEs    \n",
       "\n",
       "                                         Description  \n",
       "0  Revolutionary solution blocking bot attacks vi...  \n",
       "1  Blinky Bat elevates gameplay by transforming y...  \n",
       "2  Complete Business Website with lot of top feat...  "
      ]
     },
     "execution_count": 16,
     "metadata": {},
     "output_type": "execute_result"
    }
   ],
   "source": [
    "df"
   ]
  },
  {
   "cell_type": "code",
   "execution_count": 19,
   "metadata": {},
   "outputs": [
    {
     "data": {
      "text/html": [
       "<div>\n",
       "<style scoped>\n",
       "    .dataframe tbody tr th:only-of-type {\n",
       "        vertical-align: middle;\n",
       "    }\n",
       "\n",
       "    .dataframe tbody tr th {\n",
       "        vertical-align: top;\n",
       "    }\n",
       "\n",
       "    .dataframe thead th {\n",
       "        text-align: right;\n",
       "    }\n",
       "</style>\n",
       "<table border=\"1\" class=\"dataframe\">\n",
       "  <thead>\n",
       "    <tr style=\"text-align: right;\">\n",
       "      <th></th>\n",
       "      <th>Name</th>\n",
       "      <th>Description</th>\n",
       "    </tr>\n",
       "  </thead>\n",
       "  <tbody>\n",
       "    <tr>\n",
       "      <th>0</th>\n",
       "      <td>adCAPTCHA</td>\n",
       "      <td>Revolutionary solution blocking bot attacks vi...</td>\n",
       "    </tr>\n",
       "  </tbody>\n",
       "</table>\n",
       "</div>"
      ],
      "text/plain": [
       "        Name                                        Description\n",
       "0  adCAPTCHA  Revolutionary solution blocking bot attacks vi..."
      ]
     },
     "execution_count": 19,
     "metadata": {},
     "output_type": "execute_result"
    }
   ],
   "source": [
    "\n",
    "    "
   ]
  },
  {
   "cell_type": "code",
   "execution_count": 28,
   "metadata": {},
   "outputs": [
    {
     "name": "stdout",
     "output_type": "stream",
     "text": [
      "\n"
     ]
    },
    {
     "name": "stderr",
     "output_type": "stream",
     "text": [
      "/var/folders/nf/k091r8hx2737drcpbtd8tc_80000gn/T/ipykernel_60871/3333002031.py:6: FutureWarning: Series.__getitem__ treating keys as positions is deprecated. In a future version, integer keys will always be treated as labels (consistent with DataFrame behavior). To access a value by position, use `ser.iloc[pos]`\n",
      "  texts=[\"The product is called '\" + df.iloc[i][0]+\"'.\"+df.iloc[i][1]]\n"
     ]
    },
    {
     "name": "stdout",
     "output_type": "stream",
     "text": [
      "\n",
      "\n"
     ]
    },
    {
     "data": {
      "text/html": [
       "<div>\n",
       "<style scoped>\n",
       "    .dataframe tbody tr th:only-of-type {\n",
       "        vertical-align: middle;\n",
       "    }\n",
       "\n",
       "    .dataframe tbody tr th {\n",
       "        vertical-align: top;\n",
       "    }\n",
       "\n",
       "    .dataframe thead th {\n",
       "        text-align: right;\n",
       "    }\n",
       "</style>\n",
       "<table border=\"1\" class=\"dataframe\">\n",
       "  <thead>\n",
       "    <tr style=\"text-align: right;\">\n",
       "      <th></th>\n",
       "      <th>Name</th>\n",
       "      <th>Description</th>\n",
       "      <th>B2B</th>\n",
       "    </tr>\n",
       "  </thead>\n",
       "  <tbody>\n",
       "    <tr>\n",
       "      <th>0</th>\n",
       "      <td>adCAPTCHA</td>\n",
       "      <td>Revolutionary solution blocking bot attacks vi...</td>\n",
       "      <td>Yes</td>\n",
       "    </tr>\n",
       "    <tr>\n",
       "      <th>1</th>\n",
       "      <td>Blinky Bat</td>\n",
       "      <td>Blinky Bat elevates gameplay by transforming y...</td>\n",
       "      <td>No</td>\n",
       "    </tr>\n",
       "    <tr>\n",
       "      <th>2</th>\n",
       "      <td>Complete Website package for SMEs</td>\n",
       "      <td>Complete Business Website with lot of top feat...</td>\n",
       "      <td>No</td>\n",
       "    </tr>\n",
       "  </tbody>\n",
       "</table>\n",
       "</div>"
      ],
      "text/plain": [
       "                                 Name  \\\n",
       "0                           adCAPTCHA   \n",
       "1                          Blinky Bat   \n",
       "2  Complete Website package for SMEs    \n",
       "\n",
       "                                         Description  B2B  \n",
       "0  Revolutionary solution blocking bot attacks vi...  Yes  \n",
       "1  Blinky Bat elevates gameplay by transforming y...   No  \n",
       "2  Complete Business Website with lot of top feat...   No  "
      ]
     },
     "execution_count": 28,
     "metadata": {},
     "output_type": "execute_result"
    }
   ],
   "source": [
    "f=[]\n",
    "for i in range(len(df)):\n",
    "    print()\n",
    "\n",
    "    documents = StringIterableReader().load_data(\n",
    "    texts=[\"The product is called '\" + df.iloc[i][0]+\"'.\"+df.iloc[i][1]]\n",
    "    )\n",
    "    index = TreeIndex.from_documents(documents)\n",
    "    query_engine = index.as_query_engine()\n",
    "    a=query_engine.query(\"Is this a Business to Business product or a B2B? answer as 'Yes' or 'No'\")\n",
    "    f.append(a.response)\n",
    "df['B2B']=f\n",
    "df\n"
   ]
  }
 ],
 "metadata": {
  "kernelspec": {
   "display_name": "checker",
   "language": "python",
   "name": "python3"
  },
  "language_info": {
   "codemirror_mode": {
    "name": "ipython",
    "version": 3
   },
   "file_extension": ".py",
   "mimetype": "text/x-python",
   "name": "python",
   "nbconvert_exporter": "python",
   "pygments_lexer": "ipython3",
   "version": "3.9.13"
  }
 },
 "nbformat": 4,
 "nbformat_minor": 2
}
